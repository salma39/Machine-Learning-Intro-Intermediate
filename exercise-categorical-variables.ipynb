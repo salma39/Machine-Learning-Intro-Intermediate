{
 "cells": [
  {
   "cell_type": "markdown",
   "id": "b5765c12",
   "metadata": {
    "papermill": {
     "duration": 0.039224,
     "end_time": "2022-04-17T16:23:53.752723",
     "exception": false,
     "start_time": "2022-04-17T16:23:53.713499",
     "status": "completed"
    },
    "tags": []
   },
   "source": [
    "**This notebook is an exercise in the [Intermediate Machine Learning](https://www.kaggle.com/learn/intermediate-machine-learning) course.  You can reference the tutorial at [this link](https://www.kaggle.com/alexisbcook/categorical-variables).**\n",
    "\n",
    "---\n"
   ]
  },
  {
   "cell_type": "markdown",
   "id": "c10abef4",
   "metadata": {
    "papermill": {
     "duration": 0.039227,
     "end_time": "2022-04-17T16:23:53.831364",
     "exception": false,
     "start_time": "2022-04-17T16:23:53.792137",
     "status": "completed"
    },
    "tags": []
   },
   "source": [
    "By encoding **categorical variables**, you'll obtain your best results thus far!\n",
    "\n",
    "# Setup\n",
    "\n",
    "The questions below will give you feedback on your work. Run the following cell to set up the feedback system."
   ]
  },
  {
   "cell_type": "code",
   "execution_count": 1,
   "id": "8e124a2d",
   "metadata": {
    "execution": {
     "iopub.execute_input": "2022-04-17T16:23:53.910869Z",
     "iopub.status.busy": "2022-04-17T16:23:53.910056Z",
     "iopub.status.idle": "2022-04-17T16:23:53.968779Z",
     "shell.execute_reply": "2022-04-17T16:23:53.967831Z"
    },
    "papermill": {
     "duration": 0.101169,
     "end_time": "2022-04-17T16:23:53.971440",
     "exception": false,
     "start_time": "2022-04-17T16:23:53.870271",
     "status": "completed"
    },
    "tags": []
   },
   "outputs": [
    {
     "name": "stdout",
     "output_type": "stream",
     "text": [
      "Setup Complete\n"
     ]
    }
   ],
   "source": [
    "# Set up code checking\n",
    "import os\n",
    "if not os.path.exists(\"../input/train.csv\"):\n",
    "    os.symlink(\"../input/home-data-for-ml-course/train.csv\", \"../input/train.csv\")  \n",
    "    os.symlink(\"../input/home-data-for-ml-course/test.csv\", \"../input/test.csv\") \n",
    "from learntools.core import binder\n",
    "binder.bind(globals())\n",
    "from learntools.ml_intermediate.ex3 import *\n",
    "print(\"Setup Complete\")"
   ]
  },
  {
   "cell_type": "markdown",
   "id": "031eb16e",
   "metadata": {
    "papermill": {
     "duration": 0.038643,
     "end_time": "2022-04-17T16:23:54.051394",
     "exception": false,
     "start_time": "2022-04-17T16:23:54.012751",
     "status": "completed"
    },
    "tags": []
   },
   "source": [
    "In this exercise, you will work with data from the [Housing Prices Competition for Kaggle Learn Users](https://www.kaggle.com/c/home-data-for-ml-course). \n",
    "\n",
    "![Ames Housing dataset image](https://i.imgur.com/lTJVG4e.png)\n",
    "\n",
    "Run the next code cell without changes to load the training and validation sets in `X_train`, `X_valid`, `y_train`, and `y_valid`.  The test set is loaded in `X_test`."
   ]
  },
  {
   "cell_type": "code",
   "execution_count": 2,
   "id": "ee4c96ba",
   "metadata": {
    "execution": {
     "iopub.execute_input": "2022-04-17T16:23:54.127692Z",
     "iopub.status.busy": "2022-04-17T16:23:54.127052Z",
     "iopub.status.idle": "2022-04-17T16:23:55.484471Z",
     "shell.execute_reply": "2022-04-17T16:23:55.483542Z"
    },
    "papermill": {
     "duration": 1.398428,
     "end_time": "2022-04-17T16:23:55.486947",
     "exception": false,
     "start_time": "2022-04-17T16:23:54.088519",
     "status": "completed"
    },
    "tags": []
   },
   "outputs": [],
   "source": [
    "import pandas as pd\n",
    "from sklearn.model_selection import train_test_split\n",
    "\n",
    "# Read the data\n",
    "X = pd.read_csv('../input/train.csv', index_col='Id') \n",
    "X_test = pd.read_csv('../input/test.csv', index_col='Id')\n",
    "\n",
    "# Remove rows with missing target, separate target from predictors\n",
    "X.dropna(axis=0, subset=['SalePrice'], inplace=True)\n",
    "y = X.SalePrice\n",
    "X.drop(['SalePrice'], axis=1, inplace=True)\n",
    "\n",
    "# To keep things simple, we'll drop columns with missing values\n",
    "cols_with_missing = [col for col in X.columns if X[col].isnull().any()] \n",
    "X.drop(cols_with_missing, axis=1, inplace=True)\n",
    "X_test.drop(cols_with_missing, axis=1, inplace=True)\n",
    "\n",
    "# Break off validation set from training data\n",
    "X_train, X_valid, y_train, y_valid = train_test_split(X, y,\n",
    "                                                      train_size=0.8, test_size=0.2,\n",
    "                                                      random_state=0)"
   ]
  },
  {
   "cell_type": "markdown",
   "id": "183c485c",
   "metadata": {
    "papermill": {
     "duration": 0.037566,
     "end_time": "2022-04-17T16:23:55.564954",
     "exception": false,
     "start_time": "2022-04-17T16:23:55.527388",
     "status": "completed"
    },
    "tags": []
   },
   "source": [
    "Use the next code cell to print the first five rows of the data."
   ]
  },
  {
   "cell_type": "code",
   "execution_count": 3,
   "id": "d28811d7",
   "metadata": {
    "execution": {
     "iopub.execute_input": "2022-04-17T16:23:55.642980Z",
     "iopub.status.busy": "2022-04-17T16:23:55.642687Z",
     "iopub.status.idle": "2022-04-17T16:23:55.671176Z",
     "shell.execute_reply": "2022-04-17T16:23:55.670256Z"
    },
    "papermill": {
     "duration": 0.070381,
     "end_time": "2022-04-17T16:23:55.673441",
     "exception": false,
     "start_time": "2022-04-17T16:23:55.603060",
     "status": "completed"
    },
    "tags": []
   },
   "outputs": [
    {
     "data": {
      "text/html": [
       "<div>\n",
       "<style scoped>\n",
       "    .dataframe tbody tr th:only-of-type {\n",
       "        vertical-align: middle;\n",
       "    }\n",
       "\n",
       "    .dataframe tbody tr th {\n",
       "        vertical-align: top;\n",
       "    }\n",
       "\n",
       "    .dataframe thead th {\n",
       "        text-align: right;\n",
       "    }\n",
       "</style>\n",
       "<table border=\"1\" class=\"dataframe\">\n",
       "  <thead>\n",
       "    <tr style=\"text-align: right;\">\n",
       "      <th></th>\n",
       "      <th>MSSubClass</th>\n",
       "      <th>MSZoning</th>\n",
       "      <th>LotArea</th>\n",
       "      <th>Street</th>\n",
       "      <th>LotShape</th>\n",
       "      <th>LandContour</th>\n",
       "      <th>Utilities</th>\n",
       "      <th>LotConfig</th>\n",
       "      <th>LandSlope</th>\n",
       "      <th>Neighborhood</th>\n",
       "      <th>...</th>\n",
       "      <th>OpenPorchSF</th>\n",
       "      <th>EnclosedPorch</th>\n",
       "      <th>3SsnPorch</th>\n",
       "      <th>ScreenPorch</th>\n",
       "      <th>PoolArea</th>\n",
       "      <th>MiscVal</th>\n",
       "      <th>MoSold</th>\n",
       "      <th>YrSold</th>\n",
       "      <th>SaleType</th>\n",
       "      <th>SaleCondition</th>\n",
       "    </tr>\n",
       "    <tr>\n",
       "      <th>Id</th>\n",
       "      <th></th>\n",
       "      <th></th>\n",
       "      <th></th>\n",
       "      <th></th>\n",
       "      <th></th>\n",
       "      <th></th>\n",
       "      <th></th>\n",
       "      <th></th>\n",
       "      <th></th>\n",
       "      <th></th>\n",
       "      <th></th>\n",
       "      <th></th>\n",
       "      <th></th>\n",
       "      <th></th>\n",
       "      <th></th>\n",
       "      <th></th>\n",
       "      <th></th>\n",
       "      <th></th>\n",
       "      <th></th>\n",
       "      <th></th>\n",
       "      <th></th>\n",
       "    </tr>\n",
       "  </thead>\n",
       "  <tbody>\n",
       "    <tr>\n",
       "      <th>619</th>\n",
       "      <td>20</td>\n",
       "      <td>RL</td>\n",
       "      <td>11694</td>\n",
       "      <td>Pave</td>\n",
       "      <td>Reg</td>\n",
       "      <td>Lvl</td>\n",
       "      <td>AllPub</td>\n",
       "      <td>Inside</td>\n",
       "      <td>Gtl</td>\n",
       "      <td>NridgHt</td>\n",
       "      <td>...</td>\n",
       "      <td>108</td>\n",
       "      <td>0</td>\n",
       "      <td>0</td>\n",
       "      <td>260</td>\n",
       "      <td>0</td>\n",
       "      <td>0</td>\n",
       "      <td>7</td>\n",
       "      <td>2007</td>\n",
       "      <td>New</td>\n",
       "      <td>Partial</td>\n",
       "    </tr>\n",
       "    <tr>\n",
       "      <th>871</th>\n",
       "      <td>20</td>\n",
       "      <td>RL</td>\n",
       "      <td>6600</td>\n",
       "      <td>Pave</td>\n",
       "      <td>Reg</td>\n",
       "      <td>Lvl</td>\n",
       "      <td>AllPub</td>\n",
       "      <td>Inside</td>\n",
       "      <td>Gtl</td>\n",
       "      <td>NAmes</td>\n",
       "      <td>...</td>\n",
       "      <td>0</td>\n",
       "      <td>0</td>\n",
       "      <td>0</td>\n",
       "      <td>0</td>\n",
       "      <td>0</td>\n",
       "      <td>0</td>\n",
       "      <td>8</td>\n",
       "      <td>2009</td>\n",
       "      <td>WD</td>\n",
       "      <td>Normal</td>\n",
       "    </tr>\n",
       "    <tr>\n",
       "      <th>93</th>\n",
       "      <td>30</td>\n",
       "      <td>RL</td>\n",
       "      <td>13360</td>\n",
       "      <td>Pave</td>\n",
       "      <td>IR1</td>\n",
       "      <td>HLS</td>\n",
       "      <td>AllPub</td>\n",
       "      <td>Inside</td>\n",
       "      <td>Gtl</td>\n",
       "      <td>Crawfor</td>\n",
       "      <td>...</td>\n",
       "      <td>0</td>\n",
       "      <td>44</td>\n",
       "      <td>0</td>\n",
       "      <td>0</td>\n",
       "      <td>0</td>\n",
       "      <td>0</td>\n",
       "      <td>8</td>\n",
       "      <td>2009</td>\n",
       "      <td>WD</td>\n",
       "      <td>Normal</td>\n",
       "    </tr>\n",
       "    <tr>\n",
       "      <th>818</th>\n",
       "      <td>20</td>\n",
       "      <td>RL</td>\n",
       "      <td>13265</td>\n",
       "      <td>Pave</td>\n",
       "      <td>IR1</td>\n",
       "      <td>Lvl</td>\n",
       "      <td>AllPub</td>\n",
       "      <td>CulDSac</td>\n",
       "      <td>Gtl</td>\n",
       "      <td>Mitchel</td>\n",
       "      <td>...</td>\n",
       "      <td>59</td>\n",
       "      <td>0</td>\n",
       "      <td>0</td>\n",
       "      <td>0</td>\n",
       "      <td>0</td>\n",
       "      <td>0</td>\n",
       "      <td>7</td>\n",
       "      <td>2008</td>\n",
       "      <td>WD</td>\n",
       "      <td>Normal</td>\n",
       "    </tr>\n",
       "    <tr>\n",
       "      <th>303</th>\n",
       "      <td>20</td>\n",
       "      <td>RL</td>\n",
       "      <td>13704</td>\n",
       "      <td>Pave</td>\n",
       "      <td>IR1</td>\n",
       "      <td>Lvl</td>\n",
       "      <td>AllPub</td>\n",
       "      <td>Corner</td>\n",
       "      <td>Gtl</td>\n",
       "      <td>CollgCr</td>\n",
       "      <td>...</td>\n",
       "      <td>81</td>\n",
       "      <td>0</td>\n",
       "      <td>0</td>\n",
       "      <td>0</td>\n",
       "      <td>0</td>\n",
       "      <td>0</td>\n",
       "      <td>1</td>\n",
       "      <td>2006</td>\n",
       "      <td>WD</td>\n",
       "      <td>Normal</td>\n",
       "    </tr>\n",
       "  </tbody>\n",
       "</table>\n",
       "<p>5 rows × 60 columns</p>\n",
       "</div>"
      ],
      "text/plain": [
       "     MSSubClass MSZoning  LotArea Street LotShape LandContour Utilities  \\\n",
       "Id                                                                        \n",
       "619          20       RL    11694   Pave      Reg         Lvl    AllPub   \n",
       "871          20       RL     6600   Pave      Reg         Lvl    AllPub   \n",
       "93           30       RL    13360   Pave      IR1         HLS    AllPub   \n",
       "818          20       RL    13265   Pave      IR1         Lvl    AllPub   \n",
       "303          20       RL    13704   Pave      IR1         Lvl    AllPub   \n",
       "\n",
       "    LotConfig LandSlope Neighborhood  ... OpenPorchSF EnclosedPorch 3SsnPorch  \\\n",
       "Id                                    ...                                       \n",
       "619    Inside       Gtl      NridgHt  ...         108             0         0   \n",
       "871    Inside       Gtl        NAmes  ...           0             0         0   \n",
       "93     Inside       Gtl      Crawfor  ...           0            44         0   \n",
       "818   CulDSac       Gtl      Mitchel  ...          59             0         0   \n",
       "303    Corner       Gtl      CollgCr  ...          81             0         0   \n",
       "\n",
       "    ScreenPorch  PoolArea  MiscVal  MoSold  YrSold SaleType SaleCondition  \n",
       "Id                                                                         \n",
       "619         260         0        0       7    2007      New       Partial  \n",
       "871           0         0        0       8    2009       WD        Normal  \n",
       "93            0         0        0       8    2009       WD        Normal  \n",
       "818           0         0        0       7    2008       WD        Normal  \n",
       "303           0         0        0       1    2006       WD        Normal  \n",
       "\n",
       "[5 rows x 60 columns]"
      ]
     },
     "execution_count": 3,
     "metadata": {},
     "output_type": "execute_result"
    }
   ],
   "source": [
    "X_train.head()"
   ]
  },
  {
   "cell_type": "markdown",
   "id": "e3bdcc94",
   "metadata": {
    "papermill": {
     "duration": 0.038882,
     "end_time": "2022-04-17T16:23:55.751008",
     "exception": false,
     "start_time": "2022-04-17T16:23:55.712126",
     "status": "completed"
    },
    "tags": []
   },
   "source": [
    "Notice that the dataset contains both numerical and categorical variables.  You'll need to encode the categorical data before training a model.\n",
    "\n",
    "To compare different models, you'll use the same `score_dataset()` function from the tutorial.  This function reports the [mean absolute error](https://en.wikipedia.org/wiki/Mean_absolute_error) (MAE) from a random forest model."
   ]
  },
  {
   "cell_type": "code",
   "execution_count": 4,
   "id": "5973e88a",
   "metadata": {
    "execution": {
     "iopub.execute_input": "2022-04-17T16:23:55.829932Z",
     "iopub.status.busy": "2022-04-17T16:23:55.829633Z",
     "iopub.status.idle": "2022-04-17T16:23:56.059055Z",
     "shell.execute_reply": "2022-04-17T16:23:56.058157Z"
    },
    "papermill": {
     "duration": 0.272263,
     "end_time": "2022-04-17T16:23:56.061511",
     "exception": false,
     "start_time": "2022-04-17T16:23:55.789248",
     "status": "completed"
    },
    "tags": []
   },
   "outputs": [],
   "source": [
    "from sklearn.ensemble import RandomForestRegressor\n",
    "from sklearn.metrics import mean_absolute_error\n",
    "\n",
    "# function for comparing different approaches\n",
    "def score_dataset(X_train, X_valid, y_train, y_valid):\n",
    "    model = RandomForestRegressor(n_estimators=100, random_state=0)\n",
    "    model.fit(X_train, y_train)\n",
    "    preds = model.predict(X_valid)\n",
    "    return mean_absolute_error(y_valid, preds)"
   ]
  },
  {
   "cell_type": "markdown",
   "id": "655f6450",
   "metadata": {
    "papermill": {
     "duration": 0.03791,
     "end_time": "2022-04-17T16:23:56.137225",
     "exception": false,
     "start_time": "2022-04-17T16:23:56.099315",
     "status": "completed"
    },
    "tags": []
   },
   "source": [
    "# Step 1: Drop columns with categorical data\n",
    "\n",
    "You'll get started with the most straightforward approach.  Use the code cell below to preprocess the data in `X_train` and `X_valid` to remove columns with categorical data.  Set the preprocessed DataFrames to `drop_X_train` and `drop_X_valid`, respectively.  "
   ]
  },
  {
   "cell_type": "code",
   "execution_count": 5,
   "id": "8c58ba66",
   "metadata": {
    "execution": {
     "iopub.execute_input": "2022-04-17T16:23:56.214681Z",
     "iopub.status.busy": "2022-04-17T16:23:56.214082Z",
     "iopub.status.idle": "2022-04-17T16:23:56.227805Z",
     "shell.execute_reply": "2022-04-17T16:23:56.226574Z"
    },
    "papermill": {
     "duration": 0.054962,
     "end_time": "2022-04-17T16:23:56.230090",
     "exception": false,
     "start_time": "2022-04-17T16:23:56.175128",
     "status": "completed"
    },
    "tags": []
   },
   "outputs": [
    {
     "data": {
      "application/javascript": [
       "parent.postMessage({\"jupyterEvent\": \"custom.exercise_interaction\", \"data\": {\"outcomeType\": 1, \"valueTowardsCompletion\": 0.5, \"interactionType\": 1, \"questionType\": 2, \"questionId\": \"1_Drop\", \"learnToolsVersion\": \"0.3.4\", \"failureMessage\": \"\", \"exceptionClass\": \"\", \"trace\": \"\"}}, \"*\")"
      ],
      "text/plain": [
       "<IPython.core.display.Javascript object>"
      ]
     },
     "metadata": {},
     "output_type": "display_data"
    },
    {
     "data": {
      "text/markdown": [
       "<span style=\"color:#33cc33\">Correct</span>"
      ],
      "text/plain": [
       "Correct"
      ]
     },
     "metadata": {},
     "output_type": "display_data"
    }
   ],
   "source": [
    "# Fill in the lines below: drop columns in training and validation data\n",
    "drop_X_train = X_train.select_dtypes(exclude=['object'])\n",
    "drop_X_valid = X_valid.select_dtypes(exclude=['object'])\n",
    "\n",
    "# Check your answers\n",
    "step_1.check()"
   ]
  },
  {
   "cell_type": "code",
   "execution_count": 6,
   "id": "a1fc046e",
   "metadata": {
    "execution": {
     "iopub.execute_input": "2022-04-17T16:23:56.311594Z",
     "iopub.status.busy": "2022-04-17T16:23:56.311300Z",
     "iopub.status.idle": "2022-04-17T16:23:56.314927Z",
     "shell.execute_reply": "2022-04-17T16:23:56.314076Z"
    },
    "papermill": {
     "duration": 0.04632,
     "end_time": "2022-04-17T16:23:56.317008",
     "exception": false,
     "start_time": "2022-04-17T16:23:56.270688",
     "status": "completed"
    },
    "tags": []
   },
   "outputs": [],
   "source": [
    "# Lines below will give you a hint or solution code\n",
    "#step_1.hint()\n",
    "#step_1.solution()"
   ]
  },
  {
   "cell_type": "markdown",
   "id": "bef27414",
   "metadata": {
    "papermill": {
     "duration": 0.039677,
     "end_time": "2022-04-17T16:23:56.396497",
     "exception": false,
     "start_time": "2022-04-17T16:23:56.356820",
     "status": "completed"
    },
    "tags": []
   },
   "source": [
    "Run the next code cell to get the MAE for this approach."
   ]
  },
  {
   "cell_type": "code",
   "execution_count": 7,
   "id": "75e3e05d",
   "metadata": {
    "execution": {
     "iopub.execute_input": "2022-04-17T16:23:56.477162Z",
     "iopub.status.busy": "2022-04-17T16:23:56.476603Z",
     "iopub.status.idle": "2022-04-17T16:23:57.628562Z",
     "shell.execute_reply": "2022-04-17T16:23:57.627505Z"
    },
    "papermill": {
     "duration": 1.195061,
     "end_time": "2022-04-17T16:23:57.631095",
     "exception": false,
     "start_time": "2022-04-17T16:23:56.436034",
     "status": "completed"
    },
    "tags": []
   },
   "outputs": [
    {
     "name": "stdout",
     "output_type": "stream",
     "text": [
      "MAE from Approach 1 (Drop categorical variables):\n",
      "17837.82570776256\n"
     ]
    }
   ],
   "source": [
    "print(\"MAE from Approach 1 (Drop categorical variables):\")\n",
    "print(score_dataset(drop_X_train, drop_X_valid, y_train, y_valid))"
   ]
  },
  {
   "cell_type": "markdown",
   "id": "c2af919a",
   "metadata": {
    "papermill": {
     "duration": 0.040785,
     "end_time": "2022-04-17T16:23:57.712624",
     "exception": false,
     "start_time": "2022-04-17T16:23:57.671839",
     "status": "completed"
    },
    "tags": []
   },
   "source": [
    "Before jumping into ordinal encoding, we'll investigate the dataset.  Specifically, we'll look at the `'Condition2'` column.  The code cell below prints the unique entries in both the training and validation sets."
   ]
  },
  {
   "cell_type": "code",
   "execution_count": 8,
   "id": "137c41f8",
   "metadata": {
    "execution": {
     "iopub.execute_input": "2022-04-17T16:23:57.796722Z",
     "iopub.status.busy": "2022-04-17T16:23:57.795891Z",
     "iopub.status.idle": "2022-04-17T16:23:57.803669Z",
     "shell.execute_reply": "2022-04-17T16:23:57.802624Z"
    },
    "papermill": {
     "duration": 0.052248,
     "end_time": "2022-04-17T16:23:57.805691",
     "exception": false,
     "start_time": "2022-04-17T16:23:57.753443",
     "status": "completed"
    },
    "tags": []
   },
   "outputs": [
    {
     "name": "stdout",
     "output_type": "stream",
     "text": [
      "Unique values in 'Condition2' column in training data: ['Norm' 'PosA' 'Feedr' 'PosN' 'Artery' 'RRAe']\n",
      "\n",
      "Unique values in 'Condition2' column in validation data: ['Norm' 'RRAn' 'RRNn' 'Artery' 'Feedr' 'PosN']\n"
     ]
    }
   ],
   "source": [
    "print(\"Unique values in 'Condition2' column in training data:\", X_train['Condition2'].unique())\n",
    "print(\"\\nUnique values in 'Condition2' column in validation data:\", X_valid['Condition2'].unique())"
   ]
  },
  {
   "cell_type": "markdown",
   "id": "e59f2779",
   "metadata": {
    "papermill": {
     "duration": 0.040077,
     "end_time": "2022-04-17T16:23:57.888745",
     "exception": false,
     "start_time": "2022-04-17T16:23:57.848668",
     "status": "completed"
    },
    "tags": []
   },
   "source": [
    "# Step 2: Ordinal encoding\n",
    "\n",
    "### Part A\n",
    "\n",
    "If you now write code to: \n",
    "- fit an ordinal encoder to the training data, and then \n",
    "- use it to transform both the training and validation data, \n",
    "\n",
    "you'll get an error.  Can you see why this is the case?  (_You'll need  to use the above output to answer this question._)"
   ]
  },
  {
   "cell_type": "code",
   "execution_count": 9,
   "id": "d8ac73e0",
   "metadata": {
    "execution": {
     "iopub.execute_input": "2022-04-17T16:23:57.975969Z",
     "iopub.status.busy": "2022-04-17T16:23:57.975055Z",
     "iopub.status.idle": "2022-04-17T16:23:57.983231Z",
     "shell.execute_reply": "2022-04-17T16:23:57.982387Z"
    },
    "papermill": {
     "duration": 0.053324,
     "end_time": "2022-04-17T16:23:57.985223",
     "exception": false,
     "start_time": "2022-04-17T16:23:57.931899",
     "status": "completed"
    },
    "tags": []
   },
   "outputs": [
    {
     "data": {
      "application/javascript": [
       "parent.postMessage({\"jupyterEvent\": \"custom.exercise_interaction\", \"data\": {\"outcomeType\": 1, \"valueTowardsCompletion\": 0.5, \"interactionType\": 1, \"questionType\": 4, \"questionId\": \"2.1_LabelA\", \"learnToolsVersion\": \"0.3.4\", \"failureMessage\": \"\", \"exceptionClass\": \"\", \"trace\": \"\"}}, \"*\")"
      ],
      "text/plain": [
       "<IPython.core.display.Javascript object>"
      ]
     },
     "metadata": {},
     "output_type": "display_data"
    },
    {
     "data": {
      "text/markdown": [
       "<span style=\"color:#33cc33\">Correct:</span> \n",
       "\n",
       "Fitting an ordinal encoder to a column in the training data creates a corresponding integer-valued label for each unique value **that appears in the training data**. In the case that the validation data contains values that don't also appear in the training data, the encoder will throw an error, because these values won't have an integer assigned to them.  Notice that the `'Condition2'` column in the validation data contains the values `'RRAn'` and `'RRNn'`, but these don't appear in the training data -- thus, if we try to use an ordinal encoder with scikit-learn, the code will throw an error."
      ],
      "text/plain": [
       "Correct: \n",
       "\n",
       "Fitting an ordinal encoder to a column in the training data creates a corresponding integer-valued label for each unique value **that appears in the training data**. In the case that the validation data contains values that don't also appear in the training data, the encoder will throw an error, because these values won't have an integer assigned to them.  Notice that the `'Condition2'` column in the validation data contains the values `'RRAn'` and `'RRNn'`, but these don't appear in the training data -- thus, if we try to use an ordinal encoder with scikit-learn, the code will throw an error."
      ]
     },
     "metadata": {},
     "output_type": "display_data"
    }
   ],
   "source": [
    "# Check your answer (Run this code cell to receive credit!)\n",
    "step_2.a.check()"
   ]
  },
  {
   "cell_type": "code",
   "execution_count": 10,
   "id": "d0e12323",
   "metadata": {
    "execution": {
     "iopub.execute_input": "2022-04-17T16:23:58.072800Z",
     "iopub.status.busy": "2022-04-17T16:23:58.072383Z",
     "iopub.status.idle": "2022-04-17T16:23:58.075860Z",
     "shell.execute_reply": "2022-04-17T16:23:58.075274Z"
    },
    "papermill": {
     "duration": 0.048634,
     "end_time": "2022-04-17T16:23:58.077763",
     "exception": false,
     "start_time": "2022-04-17T16:23:58.029129",
     "status": "completed"
    },
    "tags": []
   },
   "outputs": [],
   "source": [
    "#step_2.a.hint()"
   ]
  },
  {
   "cell_type": "markdown",
   "id": "fba8391d",
   "metadata": {
    "papermill": {
     "duration": 0.041324,
     "end_time": "2022-04-17T16:23:58.162095",
     "exception": false,
     "start_time": "2022-04-17T16:23:58.120771",
     "status": "completed"
    },
    "tags": []
   },
   "source": [
    "This is a common problem that you'll encounter with real-world data, and there are many approaches to fixing this issue.  For instance, you can write a custom ordinal encoder to deal with new categories.  The simplest approach, however, is to drop the problematic categorical columns.  \n",
    "\n",
    "Run the code cell below to save the problematic columns to a Python list `bad_label_cols`.  Likewise, columns that can be safely ordinal encoded are stored in `good_label_cols`."
   ]
  },
  {
   "cell_type": "code",
   "execution_count": 11,
   "id": "6216e45f",
   "metadata": {
    "execution": {
     "iopub.execute_input": "2022-04-17T16:23:58.247326Z",
     "iopub.status.busy": "2022-04-17T16:23:58.247014Z",
     "iopub.status.idle": "2022-04-17T16:23:58.263685Z",
     "shell.execute_reply": "2022-04-17T16:23:58.262770Z"
    },
    "papermill": {
     "duration": 0.061569,
     "end_time": "2022-04-17T16:23:58.265877",
     "exception": false,
     "start_time": "2022-04-17T16:23:58.204308",
     "status": "completed"
    },
    "tags": []
   },
   "outputs": [
    {
     "name": "stdout",
     "output_type": "stream",
     "text": [
      "Categorical columns that will be ordinal encoded: ['MSZoning', 'Street', 'LotShape', 'LandContour', 'Utilities', 'LotConfig', 'LandSlope', 'Neighborhood', 'Condition1', 'BldgType', 'HouseStyle', 'RoofStyle', 'Exterior1st', 'Exterior2nd', 'ExterQual', 'ExterCond', 'Foundation', 'Heating', 'HeatingQC', 'CentralAir', 'KitchenQual', 'PavedDrive', 'SaleType', 'SaleCondition']\n",
      "\n",
      "Categorical columns that will be dropped from the dataset: ['RoofMatl', 'Functional', 'Condition2']\n"
     ]
    }
   ],
   "source": [
    "# Categorical columns in the training data\n",
    "object_cols = [col for col in X_train.columns if X_train[col].dtype == \"object\"]\n",
    "\n",
    "# Columns that can be safely ordinal encoded\n",
    "good_label_cols = [col for col in object_cols if \n",
    "                   set(X_valid[col]).issubset(set(X_train[col]))]\n",
    "        \n",
    "# Problematic columns that will be dropped from the dataset\n",
    "bad_label_cols = list(set(object_cols)-set(good_label_cols))\n",
    "        \n",
    "print('Categorical columns that will be ordinal encoded:', good_label_cols)\n",
    "print('\\nCategorical columns that will be dropped from the dataset:', bad_label_cols)"
   ]
  },
  {
   "cell_type": "markdown",
   "id": "488c5afc",
   "metadata": {
    "papermill": {
     "duration": 0.04212,
     "end_time": "2022-04-17T16:23:58.350813",
     "exception": false,
     "start_time": "2022-04-17T16:23:58.308693",
     "status": "completed"
    },
    "tags": []
   },
   "source": [
    "### Part B\n",
    "\n",
    "Use the next code cell to ordinal encode the data in `X_train` and `X_valid`.  Set the preprocessed DataFrames to `label_X_train` and `label_X_valid`, respectively.  \n",
    "- We have provided code below to drop the categorical columns in `bad_label_cols` from the dataset. \n",
    "- You should ordinal encode the categorical columns in `good_label_cols`.  "
   ]
  },
  {
   "cell_type": "code",
   "execution_count": 12,
   "id": "a57c3f40",
   "metadata": {
    "execution": {
     "iopub.execute_input": "2022-04-17T16:23:58.438326Z",
     "iopub.status.busy": "2022-04-17T16:23:58.437812Z",
     "iopub.status.idle": "2022-04-17T16:23:58.482130Z",
     "shell.execute_reply": "2022-04-17T16:23:58.481085Z"
    },
    "papermill": {
     "duration": 0.090777,
     "end_time": "2022-04-17T16:23:58.484174",
     "exception": false,
     "start_time": "2022-04-17T16:23:58.393397",
     "status": "completed"
    },
    "tags": []
   },
   "outputs": [
    {
     "data": {
      "application/javascript": [
       "parent.postMessage({\"jupyterEvent\": \"custom.exercise_interaction\", \"data\": {\"outcomeType\": 1, \"valueTowardsCompletion\": 0.5, \"interactionType\": 1, \"questionType\": 2, \"questionId\": \"2.2_LabelB\", \"learnToolsVersion\": \"0.3.4\", \"failureMessage\": \"\", \"exceptionClass\": \"\", \"trace\": \"\"}}, \"*\")"
      ],
      "text/plain": [
       "<IPython.core.display.Javascript object>"
      ]
     },
     "metadata": {},
     "output_type": "display_data"
    },
    {
     "data": {
      "text/markdown": [
       "<span style=\"color:#33cc33\">Correct</span>"
      ],
      "text/plain": [
       "Correct"
      ]
     },
     "metadata": {},
     "output_type": "display_data"
    }
   ],
   "source": [
    "from sklearn.preprocessing import OrdinalEncoder\n",
    "\n",
    "# Drop categorical columns that will not be encoded\n",
    "label_X_train = X_train.drop(bad_label_cols, axis=1)\n",
    "label_X_valid = X_valid.drop(bad_label_cols, axis=1)\n",
    "\n",
    "# Apply ordinal encoder \n",
    "oe = OrdinalEncoder()\n",
    "label_X_train[good_label_cols] = oe.fit_transform(X_train[good_label_cols])\n",
    "label_X_valid[good_label_cols] = oe.transform(X_valid[good_label_cols])# Your code here\n",
    "    \n",
    "# Check your answer\n",
    "step_2.b.check()"
   ]
  },
  {
   "cell_type": "code",
   "execution_count": 13,
   "id": "59124af6",
   "metadata": {
    "execution": {
     "iopub.execute_input": "2022-04-17T16:23:58.572837Z",
     "iopub.status.busy": "2022-04-17T16:23:58.572311Z",
     "iopub.status.idle": "2022-04-17T16:23:58.575622Z",
     "shell.execute_reply": "2022-04-17T16:23:58.574774Z"
    },
    "papermill": {
     "duration": 0.050287,
     "end_time": "2022-04-17T16:23:58.577525",
     "exception": false,
     "start_time": "2022-04-17T16:23:58.527238",
     "status": "completed"
    },
    "tags": []
   },
   "outputs": [],
   "source": [
    "# Lines below will give you a hint or solution code\n",
    "#step_2.b.hint()\n",
    "#step_2.b.solution()"
   ]
  },
  {
   "cell_type": "markdown",
   "id": "62b18255",
   "metadata": {
    "papermill": {
     "duration": 0.042916,
     "end_time": "2022-04-17T16:23:58.664656",
     "exception": false,
     "start_time": "2022-04-17T16:23:58.621740",
     "status": "completed"
    },
    "tags": []
   },
   "source": [
    "Run the next code cell to get the MAE for this approach."
   ]
  },
  {
   "cell_type": "code",
   "execution_count": 14,
   "id": "9934c69b",
   "metadata": {
    "execution": {
     "iopub.execute_input": "2022-04-17T16:23:58.752563Z",
     "iopub.status.busy": "2022-04-17T16:23:58.751825Z",
     "iopub.status.idle": "2022-04-17T16:24:00.196589Z",
     "shell.execute_reply": "2022-04-17T16:24:00.195651Z"
    },
    "papermill": {
     "duration": 1.491759,
     "end_time": "2022-04-17T16:24:00.199021",
     "exception": false,
     "start_time": "2022-04-17T16:23:58.707262",
     "status": "completed"
    },
    "tags": []
   },
   "outputs": [
    {
     "name": "stdout",
     "output_type": "stream",
     "text": [
      "MAE from Approach 2 (Ordinal Encoding):\n",
      "17098.01649543379\n"
     ]
    }
   ],
   "source": [
    "print(\"MAE from Approach 2 (Ordinal Encoding):\") \n",
    "print(score_dataset(label_X_train, label_X_valid, y_train, y_valid))"
   ]
  },
  {
   "cell_type": "markdown",
   "id": "951b8193",
   "metadata": {
    "papermill": {
     "duration": 0.04318,
     "end_time": "2022-04-17T16:24:00.286240",
     "exception": false,
     "start_time": "2022-04-17T16:24:00.243060",
     "status": "completed"
    },
    "tags": []
   },
   "source": [
    "So far, you've tried two different approaches to dealing with categorical variables.  And, you've seen that encoding categorical data yields better results than removing columns from the dataset.\n",
    "\n",
    "Soon, you'll try one-hot encoding.  Before then, there's one additional topic we need to cover.  Begin by running the next code cell without changes.  "
   ]
  },
  {
   "cell_type": "code",
   "execution_count": 15,
   "id": "c7169d29",
   "metadata": {
    "execution": {
     "iopub.execute_input": "2022-04-17T16:24:00.375377Z",
     "iopub.status.busy": "2022-04-17T16:24:00.375065Z",
     "iopub.status.idle": "2022-04-17T16:24:00.389838Z",
     "shell.execute_reply": "2022-04-17T16:24:00.388878Z"
    },
    "papermill": {
     "duration": 0.061561,
     "end_time": "2022-04-17T16:24:00.392070",
     "exception": false,
     "start_time": "2022-04-17T16:24:00.330509",
     "status": "completed"
    },
    "tags": []
   },
   "outputs": [
    {
     "data": {
      "text/plain": [
       "[('Street', 2),\n",
       " ('Utilities', 2),\n",
       " ('CentralAir', 2),\n",
       " ('LandSlope', 3),\n",
       " ('PavedDrive', 3),\n",
       " ('LotShape', 4),\n",
       " ('LandContour', 4),\n",
       " ('ExterQual', 4),\n",
       " ('KitchenQual', 4),\n",
       " ('MSZoning', 5),\n",
       " ('LotConfig', 5),\n",
       " ('BldgType', 5),\n",
       " ('ExterCond', 5),\n",
       " ('HeatingQC', 5),\n",
       " ('Condition2', 6),\n",
       " ('RoofStyle', 6),\n",
       " ('Foundation', 6),\n",
       " ('Heating', 6),\n",
       " ('Functional', 6),\n",
       " ('SaleCondition', 6),\n",
       " ('RoofMatl', 7),\n",
       " ('HouseStyle', 8),\n",
       " ('Condition1', 9),\n",
       " ('SaleType', 9),\n",
       " ('Exterior1st', 15),\n",
       " ('Exterior2nd', 16),\n",
       " ('Neighborhood', 25)]"
      ]
     },
     "execution_count": 15,
     "metadata": {},
     "output_type": "execute_result"
    }
   ],
   "source": [
    "# Get number of unique entries in each column with categorical data\n",
    "object_nunique = list(map(lambda col: X_train[col].nunique(), object_cols))\n",
    "d = dict(zip(object_cols, object_nunique))\n",
    "\n",
    "# Print number of unique entries by column, in ascending order\n",
    "sorted(d.items(), key=lambda x: x[1])"
   ]
  },
  {
   "cell_type": "markdown",
   "id": "9fdab1c6",
   "metadata": {
    "papermill": {
     "duration": 0.044131,
     "end_time": "2022-04-17T16:24:00.480108",
     "exception": false,
     "start_time": "2022-04-17T16:24:00.435977",
     "status": "completed"
    },
    "tags": []
   },
   "source": [
    "# Step 3: Investigating cardinality\n",
    "\n",
    "### Part A\n",
    "\n",
    "The output above shows, for each column with categorical data, the number of unique values in the column.  For instance, the `'Street'` column in the training data has two unique values: `'Grvl'` and `'Pave'`, corresponding to a gravel road and a paved road, respectively.\n",
    "\n",
    "We refer to the number of unique entries of a categorical variable as the **cardinality** of that categorical variable.  For instance, the `'Street'` variable has cardinality 2.\n",
    "\n",
    "Use the output above to answer the questions below."
   ]
  },
  {
   "cell_type": "code",
   "execution_count": 16,
   "id": "8393fa3f",
   "metadata": {
    "execution": {
     "iopub.execute_input": "2022-04-17T16:24:00.569325Z",
     "iopub.status.busy": "2022-04-17T16:24:00.568842Z",
     "iopub.status.idle": "2022-04-17T16:24:00.576849Z",
     "shell.execute_reply": "2022-04-17T16:24:00.576027Z"
    },
    "papermill": {
     "duration": 0.055195,
     "end_time": "2022-04-17T16:24:00.579134",
     "exception": false,
     "start_time": "2022-04-17T16:24:00.523939",
     "status": "completed"
    },
    "tags": []
   },
   "outputs": [
    {
     "data": {
      "application/javascript": [
       "parent.postMessage({\"jupyterEvent\": \"custom.exercise_interaction\", \"data\": {\"outcomeType\": 1, \"valueTowardsCompletion\": 0.5, \"interactionType\": 1, \"questionType\": 1, \"questionId\": \"3.1_CardinalityA\", \"learnToolsVersion\": \"0.3.4\", \"failureMessage\": \"\", \"exceptionClass\": \"\", \"trace\": \"\"}}, \"*\")"
      ],
      "text/plain": [
       "<IPython.core.display.Javascript object>"
      ]
     },
     "metadata": {},
     "output_type": "display_data"
    },
    {
     "data": {
      "text/markdown": [
       "<span style=\"color:#33cc33\">Correct</span>"
      ],
      "text/plain": [
       "Correct"
      ]
     },
     "metadata": {},
     "output_type": "display_data"
    }
   ],
   "source": [
    "# Fill in the line below: How many categorical variables in the training data\n",
    "# have cardinality greater than 10?\n",
    "high_cardinality_numcols = 3\n",
    "\n",
    "# Fill in the line below: How many columns are needed to one-hot encode the \n",
    "# 'Neighborhood' variable in the training data?\n",
    "num_cols_neighborhood = 25\n",
    "\n",
    "# Check your answers\n",
    "step_3.a.check()"
   ]
  },
  {
   "cell_type": "code",
   "execution_count": 17,
   "id": "d9344294",
   "metadata": {
    "execution": {
     "iopub.execute_input": "2022-04-17T16:24:00.673687Z",
     "iopub.status.busy": "2022-04-17T16:24:00.673095Z",
     "iopub.status.idle": "2022-04-17T16:24:00.676788Z",
     "shell.execute_reply": "2022-04-17T16:24:00.676246Z"
    },
    "papermill": {
     "duration": 0.053412,
     "end_time": "2022-04-17T16:24:00.678764",
     "exception": false,
     "start_time": "2022-04-17T16:24:00.625352",
     "status": "completed"
    },
    "tags": []
   },
   "outputs": [],
   "source": [
    "# Lines below will give you a hint or solution code\n",
    "#step_3.a.hint()\n",
    "#step_3.a.solution()"
   ]
  },
  {
   "cell_type": "markdown",
   "id": "2ce96615",
   "metadata": {
    "papermill": {
     "duration": 0.045799,
     "end_time": "2022-04-17T16:24:00.770559",
     "exception": false,
     "start_time": "2022-04-17T16:24:00.724760",
     "status": "completed"
    },
    "tags": []
   },
   "source": [
    "### Part B\n",
    "\n",
    "For large datasets with many rows, one-hot encoding can greatly expand the size of the dataset.  For this reason, we typically will only one-hot encode columns with relatively low cardinality.  Then, high cardinality columns can either be dropped from the dataset, or we can use ordinal encoding.\n",
    "\n",
    "As an example, consider a dataset with 10,000 rows, and containing one categorical column with 100 unique entries.  \n",
    "- If this column is replaced with the corresponding one-hot encoding, how many entries are added to the dataset?  \n",
    "- If we instead replace the column with the ordinal encoding, how many entries are added?  \n",
    "\n",
    "Use your answers to fill in the lines below."
   ]
  },
  {
   "cell_type": "code",
   "execution_count": 18,
   "id": "8d5efd1f",
   "metadata": {
    "execution": {
     "iopub.execute_input": "2022-04-17T16:24:00.864347Z",
     "iopub.status.busy": "2022-04-17T16:24:00.863805Z",
     "iopub.status.idle": "2022-04-17T16:24:00.872429Z",
     "shell.execute_reply": "2022-04-17T16:24:00.871747Z"
    },
    "papermill": {
     "duration": 0.058503,
     "end_time": "2022-04-17T16:24:00.874388",
     "exception": false,
     "start_time": "2022-04-17T16:24:00.815885",
     "status": "completed"
    },
    "tags": []
   },
   "outputs": [
    {
     "data": {
      "application/javascript": [
       "parent.postMessage({\"jupyterEvent\": \"custom.exercise_interaction\", \"data\": {\"outcomeType\": 1, \"valueTowardsCompletion\": 0.5, \"interactionType\": 1, \"questionType\": 1, \"questionId\": \"3.2_CardinalityB\", \"learnToolsVersion\": \"0.3.4\", \"failureMessage\": \"\", \"exceptionClass\": \"\", \"trace\": \"\"}}, \"*\")"
      ],
      "text/plain": [
       "<IPython.core.display.Javascript object>"
      ]
     },
     "metadata": {},
     "output_type": "display_data"
    },
    {
     "data": {
      "text/markdown": [
       "<span style=\"color:#33cc33\">Correct</span>"
      ],
      "text/plain": [
       "Correct"
      ]
     },
     "metadata": {},
     "output_type": "display_data"
    }
   ],
   "source": [
    "# Fill in the line below: How many entries are added to the dataset by \n",
    "# replacing the column with a one-hot encoding?\n",
    "OH_entries_added = 10000*100-10000\n",
    "\n",
    "# Fill in the line below: How many entries are added to the dataset by\n",
    "# replacing the column with an ordinal encoding?\n",
    "label_entries_added =0\n",
    "\n",
    "# Check your answers\n",
    "step_3.b.check()"
   ]
  },
  {
   "cell_type": "code",
   "execution_count": 19,
   "id": "239bc107",
   "metadata": {
    "execution": {
     "iopub.execute_input": "2022-04-17T16:24:00.972307Z",
     "iopub.status.busy": "2022-04-17T16:24:00.971746Z",
     "iopub.status.idle": "2022-04-17T16:24:00.975466Z",
     "shell.execute_reply": "2022-04-17T16:24:00.974791Z"
    },
    "papermill": {
     "duration": 0.055533,
     "end_time": "2022-04-17T16:24:00.977436",
     "exception": false,
     "start_time": "2022-04-17T16:24:00.921903",
     "status": "completed"
    },
    "tags": []
   },
   "outputs": [],
   "source": [
    "# Lines below will give you a hint or solution code\n",
    "#step_3.b.hint()\n",
    "#step_3.b.solution()"
   ]
  },
  {
   "cell_type": "markdown",
   "id": "6b8fdfe4",
   "metadata": {
    "papermill": {
     "duration": 0.049497,
     "end_time": "2022-04-17T16:24:01.073279",
     "exception": false,
     "start_time": "2022-04-17T16:24:01.023782",
     "status": "completed"
    },
    "tags": []
   },
   "source": [
    "Next, you'll experiment with one-hot encoding.  But, instead of encoding all of the categorical variables in the dataset, you'll only create a one-hot encoding for columns with cardinality less than 10.\n",
    "\n",
    "Run the code cell below without changes to set `low_cardinality_cols` to a Python list containing the columns that will be one-hot encoded.  Likewise, `high_cardinality_cols` contains a list of categorical columns that will be dropped from the dataset."
   ]
  },
  {
   "cell_type": "code",
   "execution_count": 20,
   "id": "129a222c",
   "metadata": {
    "execution": {
     "iopub.execute_input": "2022-04-17T16:24:01.173731Z",
     "iopub.status.busy": "2022-04-17T16:24:01.173139Z",
     "iopub.status.idle": "2022-04-17T16:24:01.185342Z",
     "shell.execute_reply": "2022-04-17T16:24:01.184432Z"
    },
    "papermill": {
     "duration": 0.06643,
     "end_time": "2022-04-17T16:24:01.188900",
     "exception": false,
     "start_time": "2022-04-17T16:24:01.122470",
     "status": "completed"
    },
    "tags": []
   },
   "outputs": [
    {
     "name": "stdout",
     "output_type": "stream",
     "text": [
      "Categorical columns that will be one-hot encoded: ['MSZoning', 'Street', 'LotShape', 'LandContour', 'Utilities', 'LotConfig', 'LandSlope', 'Condition1', 'Condition2', 'BldgType', 'HouseStyle', 'RoofStyle', 'RoofMatl', 'ExterQual', 'ExterCond', 'Foundation', 'Heating', 'HeatingQC', 'CentralAir', 'KitchenQual', 'Functional', 'PavedDrive', 'SaleType', 'SaleCondition']\n",
      "\n",
      "Categorical columns that will be dropped from the dataset: ['Neighborhood', 'Exterior2nd', 'Exterior1st']\n"
     ]
    }
   ],
   "source": [
    "# Columns that will be one-hot encoded\n",
    "low_cardinality_cols = [col for col in object_cols if X_train[col].nunique() < 10]\n",
    "\n",
    "# Columns that will be dropped from the dataset\n",
    "high_cardinality_cols = list(set(object_cols)-set(low_cardinality_cols))\n",
    "\n",
    "print('Categorical columns that will be one-hot encoded:', low_cardinality_cols)\n",
    "print('\\nCategorical columns that will be dropped from the dataset:', high_cardinality_cols)"
   ]
  },
  {
   "cell_type": "markdown",
   "id": "77462a2b",
   "metadata": {
    "papermill": {
     "duration": 0.047732,
     "end_time": "2022-04-17T16:24:01.285979",
     "exception": false,
     "start_time": "2022-04-17T16:24:01.238247",
     "status": "completed"
    },
    "tags": []
   },
   "source": [
    "# Step 4: One-hot encoding\n",
    "\n",
    "Use the next code cell to one-hot encode the data in `X_train` and `X_valid`.  Set the preprocessed DataFrames to `OH_X_train` and `OH_X_valid`, respectively.  \n",
    "- The full list of categorical columns in the dataset can be found in the Python list `object_cols`.\n",
    "- You should only one-hot encode the categorical columns in `low_cardinality_cols`.  All other categorical columns should be dropped from the dataset. "
   ]
  },
  {
   "cell_type": "code",
   "execution_count": 21,
   "id": "1dd6f4c5",
   "metadata": {
    "execution": {
     "iopub.execute_input": "2022-04-17T16:24:01.386572Z",
     "iopub.status.busy": "2022-04-17T16:24:01.385777Z",
     "iopub.status.idle": "2022-04-17T16:24:01.426754Z",
     "shell.execute_reply": "2022-04-17T16:24:01.425862Z"
    },
    "papermill": {
     "duration": 0.093618,
     "end_time": "2022-04-17T16:24:01.428853",
     "exception": false,
     "start_time": "2022-04-17T16:24:01.335235",
     "status": "completed"
    },
    "tags": []
   },
   "outputs": [
    {
     "data": {
      "application/javascript": [
       "parent.postMessage({\"jupyterEvent\": \"custom.exercise_interaction\", \"data\": {\"outcomeType\": 1, \"valueTowardsCompletion\": 0.5, \"interactionType\": 1, \"questionType\": 2, \"questionId\": \"4_OneHot\", \"learnToolsVersion\": \"0.3.4\", \"failureMessage\": \"\", \"exceptionClass\": \"\", \"trace\": \"\"}}, \"*\")"
      ],
      "text/plain": [
       "<IPython.core.display.Javascript object>"
      ]
     },
     "metadata": {},
     "output_type": "display_data"
    },
    {
     "data": {
      "text/markdown": [
       "<span style=\"color:#33cc33\">Correct</span>"
      ],
      "text/plain": [
       "Correct"
      ]
     },
     "metadata": {},
     "output_type": "display_data"
    }
   ],
   "source": [
    "from sklearn.preprocessing import OneHotEncoder\n",
    "\n",
    "# Use as many lines of code as you need!\n",
    "oneEnc = OneHotEncoder(handle_unknown='ignore' , sparse=False)\n",
    "OH_X_train = pd.DataFrame(oneEnc.fit_transform(X_train[low_cardinality_cols])) # Your code here\n",
    "OH_X_valid = pd.DataFrame(oneEnc.transform(X_valid[low_cardinality_cols])) # Your code here\n",
    "\n",
    "\n",
    "OH_X_train.index = X_train.index\n",
    "OH_X_valid.index = X_valid.index\n",
    "\n",
    "num_X_train = X_train.drop(object_cols,axis=1)\n",
    "num_X_valid = X_valid.drop(object_cols,axis=1)\n",
    "\n",
    "OH_X_train = pd.concat([num_X_train,OH_X_train],axis=1)\n",
    "OH_X_valid = pd.concat([num_X_valid,OH_X_valid],axis=1)\n",
    "\n",
    "# Check your answer\n",
    "step_4.check()"
   ]
  },
  {
   "cell_type": "code",
   "execution_count": 22,
   "id": "22ee5677",
   "metadata": {
    "execution": {
     "iopub.execute_input": "2022-04-17T16:24:01.530497Z",
     "iopub.status.busy": "2022-04-17T16:24:01.530051Z",
     "iopub.status.idle": "2022-04-17T16:24:01.533453Z",
     "shell.execute_reply": "2022-04-17T16:24:01.532843Z"
    },
    "papermill": {
     "duration": 0.058104,
     "end_time": "2022-04-17T16:24:01.535273",
     "exception": false,
     "start_time": "2022-04-17T16:24:01.477169",
     "status": "completed"
    },
    "tags": []
   },
   "outputs": [],
   "source": [
    "# Lines below will give you a hint or solution code\n",
    "#step_4.hint()\n",
    "#step_4.solution()"
   ]
  },
  {
   "cell_type": "markdown",
   "id": "f7b06b8a",
   "metadata": {
    "papermill": {
     "duration": 0.04808,
     "end_time": "2022-04-17T16:24:01.634085",
     "exception": false,
     "start_time": "2022-04-17T16:24:01.586005",
     "status": "completed"
    },
    "tags": []
   },
   "source": [
    "Run the next code cell to get the MAE for this approach."
   ]
  },
  {
   "cell_type": "code",
   "execution_count": 23,
   "id": "549406ca",
   "metadata": {
    "execution": {
     "iopub.execute_input": "2022-04-17T16:24:01.735671Z",
     "iopub.status.busy": "2022-04-17T16:24:01.735291Z",
     "iopub.status.idle": "2022-04-17T16:24:03.564495Z",
     "shell.execute_reply": "2022-04-17T16:24:03.563478Z"
    },
    "papermill": {
     "duration": 1.883031,
     "end_time": "2022-04-17T16:24:03.567040",
     "exception": false,
     "start_time": "2022-04-17T16:24:01.684009",
     "status": "completed"
    },
    "tags": []
   },
   "outputs": [
    {
     "name": "stdout",
     "output_type": "stream",
     "text": [
      "MAE from Approach 3 (One-Hot Encoding):\n"
     ]
    },
    {
     "name": "stderr",
     "output_type": "stream",
     "text": [
      "/opt/conda/lib/python3.7/site-packages/sklearn/utils/validation.py:1692: FutureWarning: Feature names only support names that are all strings. Got feature names with dtypes: ['int', 'str']. An error will be raised in 1.2.\n",
      "  FutureWarning,\n"
     ]
    },
    {
     "name": "stdout",
     "output_type": "stream",
     "text": [
      "17525.345719178084\n"
     ]
    },
    {
     "name": "stderr",
     "output_type": "stream",
     "text": [
      "/opt/conda/lib/python3.7/site-packages/sklearn/utils/validation.py:1692: FutureWarning: Feature names only support names that are all strings. Got feature names with dtypes: ['int', 'str']. An error will be raised in 1.2.\n",
      "  FutureWarning,\n"
     ]
    }
   ],
   "source": [
    "print(\"MAE from Approach 3 (One-Hot Encoding):\") \n",
    "print(score_dataset(OH_X_train, OH_X_valid, y_train, y_valid))"
   ]
  },
  {
   "cell_type": "markdown",
   "id": "5b83eb58",
   "metadata": {
    "papermill": {
     "duration": 0.050623,
     "end_time": "2022-04-17T16:24:03.668691",
     "exception": false,
     "start_time": "2022-04-17T16:24:03.618068",
     "status": "completed"
    },
    "tags": []
   },
   "source": [
    "# Generate test predictions and submit your results\n",
    "\n",
    "After you complete Step 4, if you'd like to use what you've learned to submit your results to the leaderboard, you'll need to preprocess the test data before generating predictions.\n",
    "\n",
    "**This step is completely optional, and you do not need to submit results to the leaderboard to successfully complete the exercise.**\n",
    "\n",
    "Check out the previous exercise if you need help with remembering how to [join the competition](https://www.kaggle.com/c/home-data-for-ml-course) or save your results to CSV.  Once you have generated a file with your results, follow the instructions below:\n",
    "1. Begin by clicking on the **Save Version** button in the top right corner of the window.  This will generate a pop-up window.  \n",
    "2. Ensure that the **Save and Run All** option is selected, and then click on the **Save** button.\n",
    "3. This generates a window in the bottom left corner of the notebook.  After it has finished running, click on the number to the right of the **Save Version** button.  This pulls up a list of versions on the right of the screen.  Click on the ellipsis **(...)** to the right of the most recent version, and select **Open in Viewer**.  This brings you into view mode of the same page. You will need to scroll down to get back to these instructions.\n",
    "4. Click on the **Output** tab on the right of the screen.  Then, click on the file you would like to submit, and click on the **Submit** button to submit your results to the leaderboard.\n",
    "\n",
    "You have now successfully submitted to the competition!\n",
    "\n",
    "If you want to keep working to improve your performance, select the **Edit** button in the top right of the screen. Then you can change your code and repeat the process. There's a lot of room to improve, and you will climb up the leaderboard as you work.\n"
   ]
  },
  {
   "cell_type": "code",
   "execution_count": 24,
   "id": "cfa309c7",
   "metadata": {
    "execution": {
     "iopub.execute_input": "2022-04-17T16:24:03.770743Z",
     "iopub.status.busy": "2022-04-17T16:24:03.770164Z",
     "iopub.status.idle": "2022-04-17T16:24:03.773251Z",
     "shell.execute_reply": "2022-04-17T16:24:03.772687Z"
    },
    "papermill": {
     "duration": 0.056514,
     "end_time": "2022-04-17T16:24:03.775046",
     "exception": false,
     "start_time": "2022-04-17T16:24:03.718532",
     "status": "completed"
    },
    "tags": []
   },
   "outputs": [],
   "source": [
    "# (Optional) Your code here"
   ]
  },
  {
   "cell_type": "markdown",
   "id": "affb194a",
   "metadata": {
    "papermill": {
     "duration": 0.051347,
     "end_time": "2022-04-17T16:24:03.876725",
     "exception": false,
     "start_time": "2022-04-17T16:24:03.825378",
     "status": "completed"
    },
    "tags": []
   },
   "source": [
    "# Keep going\n",
    "\n",
    "With missing value handling and categorical encoding, your modeling process is getting complex. This complexity gets worse when you want to save your model to use in the future. The key to managing this complexity is something called **pipelines**. \n",
    "\n",
    "**[Learn to use pipelines](https://www.kaggle.com/alexisbcook/pipelines)** to preprocess datasets with categorical variables, missing values and any other messiness your data throws at you."
   ]
  },
  {
   "cell_type": "markdown",
   "id": "6a82c5ff",
   "metadata": {
    "papermill": {
     "duration": 0.049297,
     "end_time": "2022-04-17T16:24:03.976169",
     "exception": false,
     "start_time": "2022-04-17T16:24:03.926872",
     "status": "completed"
    },
    "tags": []
   },
   "source": [
    "---\n",
    "\n",
    "\n",
    "\n",
    "\n",
    "*Have questions or comments? Visit the [course discussion forum](https://www.kaggle.com/learn/intermediate-machine-learning/discussion) to chat with other learners.*"
   ]
  }
 ],
 "metadata": {
  "kernelspec": {
   "display_name": "Python 3",
   "language": "python",
   "name": "python3"
  },
  "language_info": {
   "codemirror_mode": {
    "name": "ipython",
    "version": 3
   },
   "file_extension": ".py",
   "mimetype": "text/x-python",
   "name": "python",
   "nbconvert_exporter": "python",
   "pygments_lexer": "ipython3",
   "version": "3.7.12"
  },
  "papermill": {
   "default_parameters": {},
   "duration": 21.713598,
   "end_time": "2022-04-17T16:24:04.746828",
   "environment_variables": {},
   "exception": null,
   "input_path": "__notebook__.ipynb",
   "output_path": "__notebook__.ipynb",
   "parameters": {},
   "start_time": "2022-04-17T16:23:43.033230",
   "version": "2.3.4"
  }
 },
 "nbformat": 4,
 "nbformat_minor": 5
}
