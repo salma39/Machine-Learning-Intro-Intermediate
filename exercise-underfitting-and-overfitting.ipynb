{
 "cells": [
  {
   "cell_type": "markdown",
   "id": "d5d3d91b",
   "metadata": {
    "papermill": {
     "duration": 0.016195,
     "end_time": "2022-04-14T03:32:03.901306",
     "exception": false,
     "start_time": "2022-04-14T03:32:03.885111",
     "status": "completed"
    },
    "tags": []
   },
   "source": [
    "**This notebook is an exercise in the [Introduction to Machine Learning](https://www.kaggle.com/learn/intro-to-machine-learning) course.  You can reference the tutorial at [this link](https://www.kaggle.com/dansbecker/underfitting-and-overfitting).**\n",
    "\n",
    "---\n"
   ]
  },
  {
   "cell_type": "markdown",
   "id": "4ebba6af",
   "metadata": {
    "papermill": {
     "duration": 0.01455,
     "end_time": "2022-04-14T03:32:03.931251",
     "exception": false,
     "start_time": "2022-04-14T03:32:03.916701",
     "status": "completed"
    },
    "tags": []
   },
   "source": [
    "## Recap\n",
    "You've built your first model, and now it's time to optimize the size of the tree to make better predictions. Run this cell to set up your coding environment where the previous step left off."
   ]
  },
  {
   "cell_type": "code",
   "execution_count": 1,
   "id": "f4d07384",
   "metadata": {
    "execution": {
     "iopub.execute_input": "2022-04-14T03:32:03.963166Z",
     "iopub.status.busy": "2022-04-14T03:32:03.962702Z",
     "iopub.status.idle": "2022-04-14T03:32:05.504774Z",
     "shell.execute_reply": "2022-04-14T03:32:05.503558Z"
    },
    "papermill": {
     "duration": 1.561424,
     "end_time": "2022-04-14T03:32:05.507613",
     "exception": false,
     "start_time": "2022-04-14T03:32:03.946189",
     "status": "completed"
    },
    "tags": []
   },
   "outputs": [
    {
     "name": "stdout",
     "output_type": "stream",
     "text": [
      "Validation MAE: 29,653\n",
      "\n",
      "Setup complete\n"
     ]
    }
   ],
   "source": [
    "# Code you have previously used to load data\n",
    "import pandas as pd\n",
    "from sklearn.metrics import mean_absolute_error\n",
    "from sklearn.model_selection import train_test_split\n",
    "from sklearn.tree import DecisionTreeRegressor\n",
    "\n",
    "\n",
    "# Path of the file to read\n",
    "iowa_file_path = '../input/home-data-for-ml-course/train.csv'\n",
    "\n",
    "home_data = pd.read_csv(iowa_file_path)\n",
    "# Create target object and call it y\n",
    "y = home_data.SalePrice\n",
    "# Create X\n",
    "features = ['LotArea', 'YearBuilt', '1stFlrSF', '2ndFlrSF', 'FullBath', 'BedroomAbvGr', 'TotRmsAbvGrd']\n",
    "X = home_data[features]\n",
    "\n",
    "# Split into validation and training data\n",
    "train_X, val_X, train_y, val_y = train_test_split(X, y, random_state=1)\n",
    "\n",
    "# Specify Model\n",
    "iowa_model = DecisionTreeRegressor(random_state=1)\n",
    "# Fit Model\n",
    "iowa_model.fit(train_X, train_y)\n",
    "\n",
    "# Make validation predictions and calculate mean absolute error\n",
    "val_predictions = iowa_model.predict(val_X)\n",
    "val_mae = mean_absolute_error(val_predictions, val_y)\n",
    "print(\"Validation MAE: {:,.0f}\".format(val_mae))\n",
    "\n",
    "# Set up code checking\n",
    "from learntools.core import binder\n",
    "binder.bind(globals())\n",
    "from learntools.machine_learning.ex5 import *\n",
    "print(\"\\nSetup complete\")"
   ]
  },
  {
   "cell_type": "markdown",
   "id": "9ed51b19",
   "metadata": {
    "papermill": {
     "duration": 0.015112,
     "end_time": "2022-04-14T03:32:05.538708",
     "exception": false,
     "start_time": "2022-04-14T03:32:05.523596",
     "status": "completed"
    },
    "tags": []
   },
   "source": [
    "# Exercises\n",
    "You could write the function `get_mae` yourself. For now, we'll supply it. This is the same function you read about in the previous lesson. Just run the cell below."
   ]
  },
  {
   "cell_type": "code",
   "execution_count": 2,
   "id": "19827c74",
   "metadata": {
    "execution": {
     "iopub.execute_input": "2022-04-14T03:32:05.571904Z",
     "iopub.status.busy": "2022-04-14T03:32:05.571389Z",
     "iopub.status.idle": "2022-04-14T03:32:05.577842Z",
     "shell.execute_reply": "2022-04-14T03:32:05.576799Z"
    },
    "papermill": {
     "duration": 0.026473,
     "end_time": "2022-04-14T03:32:05.580625",
     "exception": false,
     "start_time": "2022-04-14T03:32:05.554152",
     "status": "completed"
    },
    "tags": []
   },
   "outputs": [],
   "source": [
    "def get_mae(max_leaf_nodes, train_X, val_X, train_y, val_y):\n",
    "    model = DecisionTreeRegressor(max_leaf_nodes=max_leaf_nodes, random_state=0)\n",
    "    model.fit(train_X, train_y)\n",
    "    preds_val = model.predict(val_X)\n",
    "    mae = mean_absolute_error(val_y, preds_val)\n",
    "    return(mae)"
   ]
  },
  {
   "cell_type": "markdown",
   "id": "efb26525",
   "metadata": {
    "papermill": {
     "duration": 0.015154,
     "end_time": "2022-04-14T03:32:05.611462",
     "exception": false,
     "start_time": "2022-04-14T03:32:05.596308",
     "status": "completed"
    },
    "tags": []
   },
   "source": [
    "## Step 1: Compare Different Tree Sizes\n",
    "Write a loop that tries the following values for *max_leaf_nodes* from a set of possible values.\n",
    "\n",
    "Call the *get_mae* function on each value of max_leaf_nodes. Store the output in some way that allows you to select the value of `max_leaf_nodes` that gives the most accurate model on your data."
   ]
  },
  {
   "cell_type": "code",
   "execution_count": 3,
   "id": "6ca2f00d",
   "metadata": {
    "execution": {
     "iopub.execute_input": "2022-04-14T03:32:05.644176Z",
     "iopub.status.busy": "2022-04-14T03:32:05.643879Z",
     "iopub.status.idle": "2022-04-14T03:32:05.699426Z",
     "shell.execute_reply": "2022-04-14T03:32:05.698482Z"
    },
    "papermill": {
     "duration": 0.074835,
     "end_time": "2022-04-14T03:32:05.701800",
     "exception": false,
     "start_time": "2022-04-14T03:32:05.626965",
     "status": "completed"
    },
    "tags": []
   },
   "outputs": [
    {
     "data": {
      "application/javascript": [
       "parent.postMessage({\"jupyterEvent\": \"custom.exercise_interaction\", \"data\": {\"outcomeType\": 1, \"valueTowardsCompletion\": 0.5, \"interactionType\": 1, \"questionType\": 1, \"questionId\": \"1_BestTreeSize\", \"learnToolsVersion\": \"0.3.4\", \"failureMessage\": \"\", \"exceptionClass\": \"\", \"trace\": \"\"}}, \"*\")"
      ],
      "text/plain": [
       "<IPython.core.display.Javascript object>"
      ]
     },
     "metadata": {},
     "output_type": "display_data"
    },
    {
     "data": {
      "text/markdown": [
       "<span style=\"color:#33cc33\">Correct</span>"
      ],
      "text/plain": [
       "Correct"
      ]
     },
     "metadata": {},
     "output_type": "display_data"
    }
   ],
   "source": [
    "candidate_max_leaf_nodes = [5, 25, 50, 100, 250, 500]\n",
    "# Write loop to find the ideal tree size from candidate_max_leaf_nodes\n",
    "scores = {leaf_size: get_mae(leaf_size, train_X, val_X, train_y, val_y) for leaf_size in candidate_max_leaf_nodes}\n",
    "best_tree_size = min(scores, key=scores.get)\n",
    "\n",
    "\n",
    "# Check your answer\n",
    "step_1.check()"
   ]
  },
  {
   "cell_type": "code",
   "execution_count": 4,
   "id": "2d261961",
   "metadata": {
    "execution": {
     "iopub.execute_input": "2022-04-14T03:32:05.738497Z",
     "iopub.status.busy": "2022-04-14T03:32:05.738171Z",
     "iopub.status.idle": "2022-04-14T03:32:05.742296Z",
     "shell.execute_reply": "2022-04-14T03:32:05.741054Z"
    },
    "papermill": {
     "duration": 0.025815,
     "end_time": "2022-04-14T03:32:05.745182",
     "exception": false,
     "start_time": "2022-04-14T03:32:05.719367",
     "status": "completed"
    },
    "tags": []
   },
   "outputs": [],
   "source": [
    "# The lines below will show you a hint or the solution.\n",
    "# step_1.hint() \n",
    "#step_1.solution()"
   ]
  },
  {
   "cell_type": "markdown",
   "id": "e977b2ce",
   "metadata": {
    "papermill": {
     "duration": 0.016728,
     "end_time": "2022-04-14T03:32:05.779213",
     "exception": false,
     "start_time": "2022-04-14T03:32:05.762485",
     "status": "completed"
    },
    "tags": []
   },
   "source": [
    "## Step 2: Fit Model Using All Data\n",
    "You know the best tree size. If you were going to deploy this model in practice, you would make it even more accurate by using all of the data and keeping that tree size.  That is, you don't need to hold out the validation data now that you've made all your modeling decisions."
   ]
  },
  {
   "cell_type": "code",
   "execution_count": 5,
   "id": "4bcc1abb",
   "metadata": {
    "execution": {
     "iopub.execute_input": "2022-04-14T03:32:05.815408Z",
     "iopub.status.busy": "2022-04-14T03:32:05.815100Z",
     "iopub.status.idle": "2022-04-14T03:32:05.833308Z",
     "shell.execute_reply": "2022-04-14T03:32:05.832579Z"
    },
    "papermill": {
     "duration": 0.039361,
     "end_time": "2022-04-14T03:32:05.835792",
     "exception": false,
     "start_time": "2022-04-14T03:32:05.796431",
     "status": "completed"
    },
    "tags": []
   },
   "outputs": [
    {
     "data": {
      "application/javascript": [
       "parent.postMessage({\"jupyterEvent\": \"custom.exercise_interaction\", \"data\": {\"outcomeType\": 1, \"valueTowardsCompletion\": 0.5, \"interactionType\": 1, \"questionType\": 2, \"questionId\": \"2_FitModelWithAllData\", \"learnToolsVersion\": \"0.3.4\", \"failureMessage\": \"\", \"exceptionClass\": \"\", \"trace\": \"\"}}, \"*\")"
      ],
      "text/plain": [
       "<IPython.core.display.Javascript object>"
      ]
     },
     "metadata": {},
     "output_type": "display_data"
    },
    {
     "data": {
      "text/markdown": [
       "<span style=\"color:#33cc33\">Correct</span>"
      ],
      "text/plain": [
       "Correct"
      ]
     },
     "metadata": {},
     "output_type": "display_data"
    }
   ],
   "source": [
    "# Fill in argument to make optimal size and uncomment\n",
    "final_model = DecisionTreeRegressor(random_state=1,max_leaf_nodes=best_tree_size)\n",
    "\n",
    "# fit the final model and uncomment the next two lines\n",
    "final_model.fit(X,y)\n",
    "\n",
    "# Check your answer\n",
    "step_2.check()"
   ]
  },
  {
   "cell_type": "code",
   "execution_count": 6,
   "id": "297f1e24",
   "metadata": {
    "execution": {
     "iopub.execute_input": "2022-04-14T03:32:05.875229Z",
     "iopub.status.busy": "2022-04-14T03:32:05.874452Z",
     "iopub.status.idle": "2022-04-14T03:32:05.878575Z",
     "shell.execute_reply": "2022-04-14T03:32:05.877631Z"
    },
    "papermill": {
     "duration": 0.026503,
     "end_time": "2022-04-14T03:32:05.881235",
     "exception": false,
     "start_time": "2022-04-14T03:32:05.854732",
     "status": "completed"
    },
    "tags": []
   },
   "outputs": [],
   "source": [
    "# step_2.hint()\n",
    "# step_2.solution()"
   ]
  },
  {
   "cell_type": "markdown",
   "id": "9106a25f",
   "metadata": {
    "papermill": {
     "duration": 0.018297,
     "end_time": "2022-04-14T03:32:05.918497",
     "exception": false,
     "start_time": "2022-04-14T03:32:05.900200",
     "status": "completed"
    },
    "tags": []
   },
   "source": [
    "You've tuned this model and improved your results. But we are still using Decision Tree models, which are not very sophisticated by modern machine learning standards. In the next step you will learn to use Random Forests to improve your models even more.\n",
    "\n",
    "# Keep Going\n",
    "\n",
    "You are ready for **[Random Forests](https://www.kaggle.com/dansbecker/random-forests).**\n"
   ]
  },
  {
   "cell_type": "markdown",
   "id": "6120ead2",
   "metadata": {
    "papermill": {
     "duration": 0.019272,
     "end_time": "2022-04-14T03:32:05.956497",
     "exception": false,
     "start_time": "2022-04-14T03:32:05.937225",
     "status": "completed"
    },
    "tags": []
   },
   "source": [
    "---\n",
    "\n",
    "\n",
    "\n",
    "\n",
    "*Have questions or comments? Visit the [course discussion forum](https://www.kaggle.com/learn/intro-to-machine-learning/discussion) to chat with other learners.*"
   ]
  }
 ],
 "metadata": {
  "kernelspec": {
   "display_name": "Python 3",
   "language": "python",
   "name": "python3"
  },
  "language_info": {
   "codemirror_mode": {
    "name": "ipython",
    "version": 3
   },
   "file_extension": ".py",
   "mimetype": "text/x-python",
   "name": "python",
   "nbconvert_exporter": "python",
   "pygments_lexer": "ipython3",
   "version": "3.7.12"
  },
  "papermill": {
   "default_parameters": {},
   "duration": 13.707868,
   "end_time": "2022-04-14T03:32:06.998411",
   "environment_variables": {},
   "exception": null,
   "input_path": "__notebook__.ipynb",
   "output_path": "__notebook__.ipynb",
   "parameters": {},
   "start_time": "2022-04-14T03:31:53.290543",
   "version": "2.3.4"
  }
 },
 "nbformat": 4,
 "nbformat_minor": 5
}
